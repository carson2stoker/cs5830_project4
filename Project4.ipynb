{
 "cells": [
  {
   "cell_type": "code",
   "execution_count": null,
   "id": "61aed3b1",
   "metadata": {},
   "outputs": [],
   "source": [
    "import pandas as pd\n",
    "import numpy as np\n",
    "from sklearn.neighbors import NearestNeighbors\n",
    "from sklearn.metrics import precision_recall_fscore_support\n",
    "from sklearn.metrics import accuracy_score\n",
    "import random\n",
    "\n",
    "import matplotlib.pyplot as plt"
   ]
  },
  {
   "cell_type": "markdown",
   "id": "05a28c5b",
   "metadata": {},
   "source": [
    "# Part 1"
   ]
  },
  {
   "cell_type": "code",
   "execution_count": null,
   "id": "58830776",
   "metadata": {},
   "outputs": [],
   "source": [
    "df = pd.read_csv('cleveland.csv')\n",
    "\n",
    "df = df.rename({'num':'disease'}, axis=1)\n",
    "df['disease'] = df.disease.apply(lambda x: min(x, 1))"
   ]
  },
  {
   "cell_type": "code",
   "execution_count": null,
   "id": "fec0881a",
   "metadata": {},
   "outputs": [],
   "source": [
    "df['age_s'] = (df.age-df.age.mean())/df.age.std()\n",
    "df['trestbps_s'] = (df.trestbps-df.trestbps.mean())/df.trestbps.std()\n",
    "df['chol_s'] = (df.chol - df.chol.mean()) / df.chol.std()\n",
    "df['thalach_s'] = (df.thalach - df.thalach.mean()) / df.thalach.std()\n",
    "df['fbs_s'] = (df.fbs - df.fbs.mean()) / df.fbs.std()"
   ]
  },
  {
   "cell_type": "code",
   "execution_count": null,
   "id": "2084053a",
   "metadata": {
    "scrolled": true
   },
   "outputs": [],
   "source": [
    "def get_scores(k):\n",
    "    nn = NearestNeighbors(n_neighbors=k, metric='euclidean', algorithm='auto')\n",
    "\n",
    "    X = df[['age_s', 'trestbps_s', 'chol_s', 'thalach_s']].values\n",
    "    fit = nn.fit(X)\n",
    "\n",
    "    n = 100\n",
    "\n",
    "    patients = df.sample(n)\n",
    "    patientsX = patients[['age_s', 'trestbps_s', 'chol_s', 'thalach_s']].values\n",
    "    patientsY = patients[['disease']].values\n",
    "    \n",
    "    distances, indices = fit.kneighbors(patientsX)\n",
    "\n",
    "    y_pred = []\n",
    "    for i in range(n):\n",
    "        nbrs = df.iloc[indices[i]]\n",
    "        nbrs = nbrs.drop(patients.index[i], errors='ignore')\n",
    "    \n",
    "        healthy = nbrs[nbrs.disease == 0].count().disease\n",
    "        sick = nbrs[nbrs.disease == 1].count().disease\n",
    "        predict = 0 if (healthy > sick) else 1\n",
    "    \n",
    "        y_pred.append(predict)\n",
    "    \n",
    "    return precision_recall_fscore_support(patientsY, y_pred, labels=[1])\n",
    "\n",
    "kvals = range(2, 50)\n",
    "scores = [get_scores(k) for k in kvals]\n",
    "\n",
    "scores = [(p[0], r[0], f[0], s[0]) for (p,r,f,s) in scores]\n",
    "scores = list(zip(*scores))\n",
    "\n",
    "plt.plot(kvals, scores[2])\n",
    "plt.xlabel(\"K-Value\")\n",
    "plt.ylabel(\"F1 Score\")\n",
    "plt.savefig(\"kvalue.pdf\")"
   ]
  },
  {
   "cell_type": "code",
   "execution_count": null,
   "id": "cbbce3dd",
   "metadata": {
    "scrolled": true
   },
   "outputs": [],
   "source": [
    "from sklearn.model_selection import train_test_split\n",
    "from sklearn.metrics import precision_recall_fscore_support\n",
    "\n",
    "k = 18\n",
    "nn = NearestNeighbors(n_neighbors=k, metric='euclidean', algorithm='auto')\n",
    "\n",
    "X = df[['age_s', 'trestbps_s', 'chol_s', 'thalach_s']].values\n",
    "y = df[['disease']].values\n",
    "\n",
    "precision, recall, f1 = [], [], []\n",
    "\n",
    "for x in range(100):\n",
    "\n",
    "    X_train, X_test, y_train, y_test = train_test_split(X, y, test_size=0.1)\n",
    "\n",
    "    fit = nn.fit(X_train)\n",
    "\n",
    "    y_pred = []\n",
    "\n",
    "    distances, indices = fit.kneighbors(X_test)\n",
    "\n",
    "    for i in range(len(y_test)):\n",
    "        # print('nearest neighbors to patient: {}:'.format(patientsX[i]))\n",
    "        nbrs = y_train[indices[i]]\n",
    "        # Drop the patient of interest\n",
    "        currentPatient = y_test[i][0]\n",
    "\n",
    "        healthy = 0\n",
    "        sick = 0\n",
    "        for j in range(len(nbrs) - 1):\n",
    "            if nbrs[j] == 0:\n",
    "                healthy += 1\n",
    "            elif nbrs[j] == 1:\n",
    "                sick += 1\n",
    "        predict = 0 if (healthy > sick) else 1\n",
    "        y_pred.append(predict)\n",
    "        \n",
    "    (p, r, f, s) = precision_recall_fscore_support(y_test, y_pred, labels=[1])\n",
    "    \n",
    "    precision.append(p)\n",
    "    recall.append(r)\n",
    "    f1.append(f)\n",
    "\n",
    "print(\"Precision Scores:\")\n",
    "print(precision)\n",
    "print(\"Recall Scores:\")\n",
    "print(recall)\n",
    "print(\"F1 Scores:\")\n",
    "print(f1)\n",
    "meanF1 = sum(f1) / len(f1)\n",
    "print(\"Mean F1 Score: \" + str(meanF1))"
   ]
  }
 ],
 "metadata": {
  "kernelspec": {
   "display_name": "Python 3 (ipykernel)",
   "language": "python",
   "name": "python3"
  },
  "language_info": {
   "codemirror_mode": {
    "name": "ipython",
    "version": 3
   },
   "file_extension": ".py",
   "mimetype": "text/x-python",
   "name": "python",
   "nbconvert_exporter": "python",
   "pygments_lexer": "ipython3",
   "version": "3.8.10"
  }
 },
 "nbformat": 4,
 "nbformat_minor": 5
}
